{
 "cells": [
  {
   "cell_type": "code",
   "execution_count": 1,
   "metadata": {},
   "outputs": [],
   "source": [
    "import json\n",
    "import re\n",
    "import random_responses\n",
    "import tkinter as tk"
   ]
  },
  {
   "cell_type": "code",
   "execution_count": 2,
   "metadata": {},
   "outputs": [],
   "source": [
    "# Load JSON data\n",
    "def load_json(file):\n",
    "    with open(file) as bot_responses:\n",
    "        print(f\"Loaded '{file}' successfully!\")\n",
    "        return json.load(bot_responses)\n"
   ]
  },
  {
   "cell_type": "code",
   "execution_count": 3,
   "metadata": {},
   "outputs": [
    {
     "name": "stdout",
     "output_type": "stream",
     "text": [
      "Loaded 'bot.json' successfully!\n"
     ]
    }
   ],
   "source": [
    "# Store JSON data\n",
    "response_data = load_json(\"bot.json\")"
   ]
  },
  {
   "cell_type": "code",
   "execution_count": 4,
   "metadata": {},
   "outputs": [],
   "source": [
    "def get_response(input_string):\n",
    "    split_message = re.split(r'\\s+|[,;?!.-]\\s*', input_string.lower())\n",
    "    score_list = []\n",
    "    # Check all the responses\n",
    "    for response in response_data:\n",
    "        response_score = 0\n",
    "        required_score = 0\n",
    "        required_words = response[\"required_words\"]\n",
    "\n",
    "        # Check if there are any required words\n",
    "        if required_words:\n",
    "            for word in split_message:\n",
    "                if word in required_words:\n",
    "                    required_score += 1\n",
    "\n",
    "        # Amount of required words should match the required score\n",
    "        if required_score == len(required_words):\n",
    "            # print(required_score == len(required_words))\n",
    "            # Check each word the user has typed\n",
    "            for word in split_message:\n",
    "                # If the word is in the response, add to the score\n",
    "                if word in response[\"user_input\"]:\n",
    "                    response_score += 1\n",
    "\n",
    "        # Add score to list\n",
    "        score_list.append(response_score)\n",
    "        # Debugging: Find the best phrase\n",
    "        # print(response_score, response[\"user_input\"])\n",
    "\n",
    "    # Find the best response and return it if they're not all 0\n",
    "    best_response = max(score_list)\n",
    "    response_index = score_list.index(best_response)\n",
    "\n",
    "    # Check if input is empty\n",
    "    if input_string == \"\":\n",
    "        return \"Please type something so we can chat :(\"\n",
    "\n",
    "    # If there is no good response, return a random one.\n",
    "    if best_response != 0:\n",
    "        return response_data[response_index][\"bot_response\"]\n",
    "\n",
    "    return random_responses.random_string()"
   ]
  },
  {
   "cell_type": "code",
   "execution_count": 5,
   "metadata": {},
   "outputs": [
    {
     "name": "stdout",
     "output_type": "stream",
     "text": [
      "Session ended successfuly\n"
     ]
    }
   ],
   "source": [
    "while True:\n",
    "    user_input = input(\"You: \")\n",
    "    terminate = [\"end\",\"quit\",\"stop\"]\n",
    "    if user_input in terminate:\n",
    "        print(\"Session ended successfuly\")\n",
    "        break\n",
    "\n",
    "    print(\"Bot:\", get_response(user_input))"
   ]
  },
  {
   "cell_type": "code",
   "execution_count": null,
   "metadata": {},
   "outputs": [],
   "source": [
    "#Generate a gui using Tkinter\n",
    "def send_message():\n",
    "    user_input = entry.get()\n",
    "    if user_input:\n",
    "        response = get_response(user_input)\n",
    "        chat_text.insert(tk.END, \"You: \" + user_input + \"\\n\")\n",
    "        chat_text.insert(tk.END, \"Bot: \" + response + \"\\n\\n\")\n",
    "        entry.delete(0, tk.END)\n",
    "\n",
    "def quit_session():\n",
    "    root.destroy()\n",
    "\n",
    "# Create GUI window\n",
    "root = tk.Tk()\n",
    "root.title(\"Chatbot GUI\")\n",
    "\n",
    "# Create chat display area\n",
    "chat_text = tk.Text(root, height=20, width=50)\n",
    "chat_text.pack()\n",
    "\n",
    "# Create user input entry field\n",
    "entry = tk.Entry(root, width=40)\n",
    "entry.pack()\n",
    "\n",
    "# Create send button\n",
    "send_button = tk.Button(root, text=\"Send\", command=send_message)\n",
    "send_button.pack()\n",
    "\n",
    "# Create quit button\n",
    "quit_button = tk.Button(root, text=\"Quit\", command=quit_session)\n",
    "quit_button.pack()\n",
    "\n",
    "root.mainloop()"
   ]
  }
 ],
 "metadata": {
  "kernelspec": {
   "display_name": "Python 3",
   "language": "python",
   "name": "python3"
  },
  "language_info": {
   "codemirror_mode": {
    "name": "ipython",
    "version": 3
   },
   "file_extension": ".py",
   "mimetype": "text/x-python",
   "name": "python",
   "nbconvert_exporter": "python",
   "pygments_lexer": "ipython3",
   "version": "3.11.3"
  },
  "orig_nbformat": 4
 },
 "nbformat": 4,
 "nbformat_minor": 2
}
